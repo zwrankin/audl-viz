{
 "cells": [
  {
   "cell_type": "code",
   "execution_count": null,
   "metadata": {},
   "outputs": [],
   "source": []
  },
  {
   "cell_type": "code",
   "execution_count": 1,
   "metadata": {},
   "outputs": [],
   "source": [
    "%load_ext autoreload\n",
    "%autoreload 2"
   ]
  },
  {
   "cell_type": "code",
   "execution_count": 2,
   "metadata": {},
   "outputs": [],
   "source": [
    "import pandas as pd\n",
    "from src.data.utils import load_raw_data\n",
    "from src.data.process_team_indicators import index_vars, player_index_vars, make_player_indicators\n",
    "\n"
   ]
  },
  {
   "cell_type": "code",
   "execution_count": 3,
   "metadata": {},
   "outputs": [
    {
     "name": "stderr",
     "output_type": "stream",
     "text": [
      "/Users/zrankin/github/audl-viz/src/data/utils.py:11: FutureWarning: Sorting because non-concatenation axis is not aligned. A future version\n",
      "of pandas will change to not sort by default.\n",
      "\n",
      "To accept the future behavior, pass 'sort=False'.\n",
      "\n",
      "To retain the current behavior and silence the warning, pass 'sort=True'.\n",
      "\n",
      "  df = pd.concat([pd.read_csv(f'{DATA_DIR}/raw/{f}') for f in files])\n"
     ]
    }
   ],
   "source": [
    "audl = load_raw_data()"
   ]
  },
  {
   "cell_type": "code",
   "execution_count": 47,
   "metadata": {},
   "outputs": [
    {
     "data": {
      "text/plain": [
       "(5114, 64)"
      ]
     },
     "execution_count": 47,
     "metadata": {},
     "output_type": "execute_result"
    }
   ],
   "source": [
    "df = audl.query('team == \"Chicago Wildfire\" & year == 2018')\n",
    "df.shape"
   ]
  },
  {
   "cell_type": "code",
   "execution_count": 51,
   "metadata": {},
   "outputs": [
    {
     "name": "stdout",
     "output_type": "stream",
     "text": [
      "CPU times: user 5.05 s, sys: 24.4 ms, total: 5.08 s\n",
      "Wall time: 5.07 s\n"
     ]
    }
   ],
   "source": [
    "%%time\n",
    "df_test = make_player_indicators(df, return_df=True, save_df=False)"
   ]
  },
  {
   "cell_type": "code",
   "execution_count": 52,
   "metadata": {},
   "outputs": [
    {
     "data": {
      "text/html": [
       "<div>\n",
       "<style scoped>\n",
       "    .dataframe tbody tr th:only-of-type {\n",
       "        vertical-align: middle;\n",
       "    }\n",
       "\n",
       "    .dataframe tbody tr th {\n",
       "        vertical-align: top;\n",
       "    }\n",
       "\n",
       "    .dataframe thead th {\n",
       "        text-align: right;\n",
       "    }\n",
       "</style>\n",
       "<table border=\"1\" class=\"dataframe\">\n",
       "  <thead>\n",
       "    <tr style=\"text-align: right;\">\n",
       "      <th></th>\n",
       "      <th>year</th>\n",
       "      <th>team</th>\n",
       "      <th>player</th>\n",
       "      <th>Completions</th>\n",
       "      <th>Assists</th>\n",
       "      <th>Throwaways</th>\n",
       "      <th>Receptions</th>\n",
       "      <th>Goals</th>\n",
       "      <th>Drops</th>\n",
       "      <th>Ds</th>\n",
       "      <th>...</th>\n",
       "      <th>Possessions Played (Defense)</th>\n",
       "      <th>Opp Possessions Played (Defense)</th>\n",
       "      <th>Points Won</th>\n",
       "      <th>Points Lost</th>\n",
       "      <th>Points Won (Offense)</th>\n",
       "      <th>Points Lost (Offense)</th>\n",
       "      <th>Points Won (Defense)</th>\n",
       "      <th>Points Lost (Defense)</th>\n",
       "      <th>conversion rate (Offense)</th>\n",
       "      <th>conversion rate (Defense)</th>\n",
       "    </tr>\n",
       "  </thead>\n",
       "  <tbody>\n",
       "    <tr>\n",
       "      <th>0</th>\n",
       "      <td>2018</td>\n",
       "      <td>Chicago Wildfire</td>\n",
       "      <td>Alex Rummelhart</td>\n",
       "      <td>65.0</td>\n",
       "      <td>2.0</td>\n",
       "      <td>2.0</td>\n",
       "      <td>58.0</td>\n",
       "      <td>9.0</td>\n",
       "      <td>5.0</td>\n",
       "      <td>3.0</td>\n",
       "      <td>...</td>\n",
       "      <td>36</td>\n",
       "      <td>189</td>\n",
       "      <td>48</td>\n",
       "      <td>114</td>\n",
       "      <td>9</td>\n",
       "      <td>12</td>\n",
       "      <td>39</td>\n",
       "      <td>102</td>\n",
       "      <td>0.360000</td>\n",
       "      <td>0.268966</td>\n",
       "    </tr>\n",
       "    <tr>\n",
       "      <th>1</th>\n",
       "      <td>2018</td>\n",
       "      <td>Chicago Wildfire</td>\n",
       "      <td>Bill Kluender</td>\n",
       "      <td>39.0</td>\n",
       "      <td>4.0</td>\n",
       "      <td>3.0</td>\n",
       "      <td>41.0</td>\n",
       "      <td>4.0</td>\n",
       "      <td>0.0</td>\n",
       "      <td>5.0</td>\n",
       "      <td>...</td>\n",
       "      <td>35</td>\n",
       "      <td>107</td>\n",
       "      <td>32</td>\n",
       "      <td>71</td>\n",
       "      <td>15</td>\n",
       "      <td>3</td>\n",
       "      <td>17</td>\n",
       "      <td>68</td>\n",
       "      <td>0.750000</td>\n",
       "      <td>0.188889</td>\n",
       "    </tr>\n",
       "    <tr>\n",
       "      <th>2</th>\n",
       "      <td>2018</td>\n",
       "      <td>Chicago Wildfire</td>\n",
       "      <td>Bruno</td>\n",
       "      <td>1.0</td>\n",
       "      <td>0.0</td>\n",
       "      <td>0.0</td>\n",
       "      <td>1.0</td>\n",
       "      <td>1.0</td>\n",
       "      <td>0.0</td>\n",
       "      <td>0.0</td>\n",
       "      <td>...</td>\n",
       "      <td>6</td>\n",
       "      <td>40</td>\n",
       "      <td>6</td>\n",
       "      <td>29</td>\n",
       "      <td>0</td>\n",
       "      <td>4</td>\n",
       "      <td>6</td>\n",
       "      <td>25</td>\n",
       "      <td>0.000000</td>\n",
       "      <td>0.187500</td>\n",
       "    </tr>\n",
       "    <tr>\n",
       "      <th>3</th>\n",
       "      <td>2018</td>\n",
       "      <td>Chicago Wildfire</td>\n",
       "      <td>CJ O'Brien</td>\n",
       "      <td>19.0</td>\n",
       "      <td>3.0</td>\n",
       "      <td>5.0</td>\n",
       "      <td>25.0</td>\n",
       "      <td>4.0</td>\n",
       "      <td>0.0</td>\n",
       "      <td>3.0</td>\n",
       "      <td>...</td>\n",
       "      <td>22</td>\n",
       "      <td>85</td>\n",
       "      <td>21</td>\n",
       "      <td>61</td>\n",
       "      <td>6</td>\n",
       "      <td>6</td>\n",
       "      <td>15</td>\n",
       "      <td>55</td>\n",
       "      <td>0.428571</td>\n",
       "      <td>0.211268</td>\n",
       "    </tr>\n",
       "    <tr>\n",
       "      <th>4</th>\n",
       "      <td>2018</td>\n",
       "      <td>Chicago Wildfire</td>\n",
       "      <td>Chowder</td>\n",
       "      <td>55.0</td>\n",
       "      <td>7.0</td>\n",
       "      <td>5.0</td>\n",
       "      <td>56.0</td>\n",
       "      <td>8.0</td>\n",
       "      <td>0.0</td>\n",
       "      <td>4.0</td>\n",
       "      <td>...</td>\n",
       "      <td>121</td>\n",
       "      <td>52</td>\n",
       "      <td>75</td>\n",
       "      <td>56</td>\n",
       "      <td>59</td>\n",
       "      <td>29</td>\n",
       "      <td>16</td>\n",
       "      <td>27</td>\n",
       "      <td>0.641304</td>\n",
       "      <td>0.355556</td>\n",
       "    </tr>\n",
       "  </tbody>\n",
       "</table>\n",
       "<p>5 rows × 30 columns</p>\n",
       "</div>"
      ],
      "text/plain": [
       "   year              team           player  Completions  Assists  Throwaways  \\\n",
       "0  2018  Chicago Wildfire  Alex Rummelhart         65.0      2.0         2.0   \n",
       "1  2018  Chicago Wildfire    Bill Kluender         39.0      4.0         3.0   \n",
       "2  2018  Chicago Wildfire            Bruno          1.0      0.0         0.0   \n",
       "3  2018  Chicago Wildfire       CJ O'Brien         19.0      3.0         5.0   \n",
       "4  2018  Chicago Wildfire          Chowder         55.0      7.0         5.0   \n",
       "\n",
       "   Receptions  Goals  Drops   Ds  ...  Possessions Played (Defense)  \\\n",
       "0        58.0    9.0    5.0  3.0  ...                            36   \n",
       "1        41.0    4.0    0.0  5.0  ...                            35   \n",
       "2         1.0    1.0    0.0  0.0  ...                             6   \n",
       "3        25.0    4.0    0.0  3.0  ...                            22   \n",
       "4        56.0    8.0    0.0  4.0  ...                           121   \n",
       "\n",
       "   Opp Possessions Played (Defense)  Points Won  Points Lost  \\\n",
       "0                               189          48          114   \n",
       "1                               107          32           71   \n",
       "2                                40           6           29   \n",
       "3                                85          21           61   \n",
       "4                                52          75           56   \n",
       "\n",
       "   Points Won (Offense)  Points Lost (Offense)  Points Won (Defense)  \\\n",
       "0                     9                     12                    39   \n",
       "1                    15                      3                    17   \n",
       "2                     0                      4                     6   \n",
       "3                     6                      6                    15   \n",
       "4                    59                     29                    16   \n",
       "\n",
       "   Points Lost (Defense)  conversion rate (Offense)  conversion rate (Defense)  \n",
       "0                    102                   0.360000                   0.268966  \n",
       "1                     68                   0.750000                   0.188889  \n",
       "2                     25                   0.000000                   0.187500  \n",
       "3                     55                   0.428571                   0.211268  \n",
       "4                     27                   0.641304                   0.355556  \n",
       "\n",
       "[5 rows x 30 columns]"
      ]
     },
     "execution_count": 52,
     "metadata": {},
     "output_type": "execute_result"
    }
   ],
   "source": [
    "df_test.head()"
   ]
  },
  {
   "cell_type": "code",
   "execution_count": null,
   "metadata": {},
   "outputs": [],
   "source": []
  },
  {
   "cell_type": "code",
   "execution_count": 53,
   "metadata": {},
   "outputs": [
    {
     "name": "stderr",
     "output_type": "stream",
     "text": [
      "/Users/zrankin/github/audl-viz/src/data/utils.py:11: FutureWarning: Sorting because non-concatenation axis is not aligned. A future version\n",
      "of pandas will change to not sort by default.\n",
      "\n",
      "To accept the future behavior, pass 'sort=False'.\n",
      "\n",
      "To retain the current behavior and silence the warning, pass 'sort=True'.\n",
      "\n",
      "  df = pd.concat([pd.read_csv(f'{DATA_DIR}/raw/{f}') for f in files])\n"
     ]
    },
    {
     "name": "stdout",
     "output_type": "stream",
     "text": [
      "CPU times: user 5min 11s, sys: 5.15 s, total: 5min 16s\n",
      "Wall time: 5min 17s\n"
     ]
    }
   ],
   "source": [
    "%%time\n",
    "df_p = make_player_indicators(return_df=True, save_df=True)"
   ]
  },
  {
   "cell_type": "code",
   "execution_count": 54,
   "metadata": {},
   "outputs": [
    {
     "data": {
      "text/html": [
       "<div>\n",
       "<style scoped>\n",
       "    .dataframe tbody tr th:only-of-type {\n",
       "        vertical-align: middle;\n",
       "    }\n",
       "\n",
       "    .dataframe tbody tr th {\n",
       "        vertical-align: top;\n",
       "    }\n",
       "\n",
       "    .dataframe thead th {\n",
       "        text-align: right;\n",
       "    }\n",
       "</style>\n",
       "<table border=\"1\" class=\"dataframe\">\n",
       "  <thead>\n",
       "    <tr style=\"text-align: right;\">\n",
       "      <th></th>\n",
       "      <th>year</th>\n",
       "      <th>team</th>\n",
       "      <th>player</th>\n",
       "      <th>Completions</th>\n",
       "      <th>Assists</th>\n",
       "      <th>Throwaways</th>\n",
       "      <th>Receptions</th>\n",
       "      <th>Goals</th>\n",
       "      <th>Drops</th>\n",
       "      <th>Ds</th>\n",
       "      <th>...</th>\n",
       "      <th>Possessions Played (Defense)</th>\n",
       "      <th>Opp Possessions Played (Defense)</th>\n",
       "      <th>Points Won</th>\n",
       "      <th>Points Lost</th>\n",
       "      <th>Points Won (Offense)</th>\n",
       "      <th>Points Lost (Offense)</th>\n",
       "      <th>Points Won (Defense)</th>\n",
       "      <th>Points Lost (Defense)</th>\n",
       "      <th>conversion rate (Offense)</th>\n",
       "      <th>conversion rate (Defense)</th>\n",
       "    </tr>\n",
       "  </thead>\n",
       "  <tbody>\n",
       "    <tr>\n",
       "      <th>0</th>\n",
       "      <td>2014</td>\n",
       "      <td>Cincinnati Revolution</td>\n",
       "      <td>Aaron Bacon</td>\n",
       "      <td>24.0</td>\n",
       "      <td>2.0</td>\n",
       "      <td>7.0</td>\n",
       "      <td>25.0</td>\n",
       "      <td>0.0</td>\n",
       "      <td>1.0</td>\n",
       "      <td>3.0</td>\n",
       "      <td>...</td>\n",
       "      <td>47</td>\n",
       "      <td>83</td>\n",
       "      <td>22</td>\n",
       "      <td>61</td>\n",
       "      <td>9</td>\n",
       "      <td>14</td>\n",
       "      <td>13</td>\n",
       "      <td>47</td>\n",
       "      <td>0.321429</td>\n",
       "      <td>0.209677</td>\n",
       "    </tr>\n",
       "    <tr>\n",
       "      <th>1</th>\n",
       "      <td>2014</td>\n",
       "      <td>Cincinnati Revolution</td>\n",
       "      <td>Aaron Corley</td>\n",
       "      <td>19.0</td>\n",
       "      <td>0.0</td>\n",
       "      <td>2.0</td>\n",
       "      <td>18.0</td>\n",
       "      <td>5.0</td>\n",
       "      <td>2.0</td>\n",
       "      <td>2.0</td>\n",
       "      <td>...</td>\n",
       "      <td>29</td>\n",
       "      <td>109</td>\n",
       "      <td>23</td>\n",
       "      <td>66</td>\n",
       "      <td>4</td>\n",
       "      <td>8</td>\n",
       "      <td>19</td>\n",
       "      <td>58</td>\n",
       "      <td>0.266667</td>\n",
       "      <td>0.228916</td>\n",
       "    </tr>\n",
       "    <tr>\n",
       "      <th>2</th>\n",
       "      <td>2014</td>\n",
       "      <td>Cincinnati Revolution</td>\n",
       "      <td>Alan Huels</td>\n",
       "      <td>28.0</td>\n",
       "      <td>2.0</td>\n",
       "      <td>3.0</td>\n",
       "      <td>29.0</td>\n",
       "      <td>6.0</td>\n",
       "      <td>1.0</td>\n",
       "      <td>11.0</td>\n",
       "      <td>...</td>\n",
       "      <td>64</td>\n",
       "      <td>203</td>\n",
       "      <td>39</td>\n",
       "      <td>139</td>\n",
       "      <td>10</td>\n",
       "      <td>17</td>\n",
       "      <td>29</td>\n",
       "      <td>122</td>\n",
       "      <td>0.227273</td>\n",
       "      <td>0.177914</td>\n",
       "    </tr>\n",
       "    <tr>\n",
       "      <th>3</th>\n",
       "      <td>2014</td>\n",
       "      <td>Cincinnati Revolution</td>\n",
       "      <td>Ben Blatz</td>\n",
       "      <td>31.0</td>\n",
       "      <td>5.0</td>\n",
       "      <td>6.0</td>\n",
       "      <td>37.0</td>\n",
       "      <td>9.0</td>\n",
       "      <td>0.0</td>\n",
       "      <td>4.0</td>\n",
       "      <td>...</td>\n",
       "      <td>45</td>\n",
       "      <td>159</td>\n",
       "      <td>32</td>\n",
       "      <td>99</td>\n",
       "      <td>6</td>\n",
       "      <td>15</td>\n",
       "      <td>26</td>\n",
       "      <td>84</td>\n",
       "      <td>0.214286</td>\n",
       "      <td>0.222222</td>\n",
       "    </tr>\n",
       "    <tr>\n",
       "      <th>4</th>\n",
       "      <td>2014</td>\n",
       "      <td>Cincinnati Revolution</td>\n",
       "      <td>Ben Jansen</td>\n",
       "      <td>14.0</td>\n",
       "      <td>1.0</td>\n",
       "      <td>3.0</td>\n",
       "      <td>18.0</td>\n",
       "      <td>0.0</td>\n",
       "      <td>1.0</td>\n",
       "      <td>0.0</td>\n",
       "      <td>...</td>\n",
       "      <td>27</td>\n",
       "      <td>105</td>\n",
       "      <td>16</td>\n",
       "      <td>71</td>\n",
       "      <td>4</td>\n",
       "      <td>5</td>\n",
       "      <td>12</td>\n",
       "      <td>66</td>\n",
       "      <td>0.363636</td>\n",
       "      <td>0.148148</td>\n",
       "    </tr>\n",
       "  </tbody>\n",
       "</table>\n",
       "<p>5 rows × 30 columns</p>\n",
       "</div>"
      ],
      "text/plain": [
       "   year                   team        player  Completions  Assists  \\\n",
       "0  2014  Cincinnati Revolution   Aaron Bacon         24.0      2.0   \n",
       "1  2014  Cincinnati Revolution  Aaron Corley         19.0      0.0   \n",
       "2  2014  Cincinnati Revolution    Alan Huels         28.0      2.0   \n",
       "3  2014  Cincinnati Revolution     Ben Blatz         31.0      5.0   \n",
       "4  2014  Cincinnati Revolution    Ben Jansen         14.0      1.0   \n",
       "\n",
       "   Throwaways  Receptions  Goals  Drops    Ds  ...  \\\n",
       "0         7.0        25.0    0.0    1.0   3.0  ...   \n",
       "1         2.0        18.0    5.0    2.0   2.0  ...   \n",
       "2         3.0        29.0    6.0    1.0  11.0  ...   \n",
       "3         6.0        37.0    9.0    0.0   4.0  ...   \n",
       "4         3.0        18.0    0.0    1.0   0.0  ...   \n",
       "\n",
       "   Possessions Played (Defense)  Opp Possessions Played (Defense)  Points Won  \\\n",
       "0                            47                                83          22   \n",
       "1                            29                               109          23   \n",
       "2                            64                               203          39   \n",
       "3                            45                               159          32   \n",
       "4                            27                               105          16   \n",
       "\n",
       "   Points Lost  Points Won (Offense)  Points Lost (Offense)  \\\n",
       "0           61                     9                     14   \n",
       "1           66                     4                      8   \n",
       "2          139                    10                     17   \n",
       "3           99                     6                     15   \n",
       "4           71                     4                      5   \n",
       "\n",
       "   Points Won (Defense)  Points Lost (Defense)  conversion rate (Offense)  \\\n",
       "0                    13                     47                   0.321429   \n",
       "1                    19                     58                   0.266667   \n",
       "2                    29                    122                   0.227273   \n",
       "3                    26                     84                   0.214286   \n",
       "4                    12                     66                   0.363636   \n",
       "\n",
       "   conversion rate (Defense)  \n",
       "0                   0.209677  \n",
       "1                   0.228916  \n",
       "2                   0.177914  \n",
       "3                   0.222222  \n",
       "4                   0.148148  \n",
       "\n",
       "[5 rows x 30 columns]"
      ]
     },
     "execution_count": 54,
     "metadata": {},
     "output_type": "execute_result"
    }
   ],
   "source": [
    "df_p.head()"
   ]
  },
  {
   "cell_type": "code",
   "execution_count": 55,
   "metadata": {},
   "outputs": [
    {
     "data": {
      "text/plain": [
       "12    364\n",
       "13    326\n",
       "11    323\n",
       "10    297\n",
       "14    292\n",
       "9     287\n",
       "7     252\n",
       "8     240\n",
       "6     198\n",
       "5     192\n",
       "4     180\n",
       "3     164\n",
       "2     161\n",
       "1     160\n",
       "15    137\n",
       "16     62\n",
       "17     16\n",
       "Name: Games Played, dtype: int64"
      ]
     },
     "execution_count": 55,
     "metadata": {},
     "output_type": "execute_result"
    }
   ],
   "source": [
    "df_p['Games Played'].value_counts()"
   ]
  },
  {
   "cell_type": "code",
   "execution_count": null,
   "metadata": {},
   "outputs": [],
   "source": []
  },
  {
   "cell_type": "code",
   "execution_count": 40,
   "metadata": {},
   "outputs": [
    {
     "data": {
      "text/plain": [
       "['Completions',\n",
       " 'Assists',\n",
       " 'Throwaways',\n",
       " 'Receptions',\n",
       " 'Goals',\n",
       " 'Drops',\n",
       " 'Ds',\n",
       " 'Games Played',\n",
       " 'Quarters Played',\n",
       " 'Points Played',\n",
       " 'Possessions Played',\n",
       " 'Points Played (Offense)',\n",
       " 'Possessions Played (Offense)',\n",
       " 'Opp Possessions Played (Offense)',\n",
       " 'Points Played (Defense)',\n",
       " 'Possessions Played (Defense)',\n",
       " 'Opp Possessions Played (Defense)',\n",
       " 'Points Won',\n",
       " 'Points Lost',\n",
       " 'Points Won (Offense)',\n",
       " 'Points Lost (Offense)',\n",
       " 'Points Won (Defense)',\n",
       " 'Points Lost (Defense)',\n",
       " 'conversion rate (Offense)',\n",
       " 'conversion rate (Defense)',\n",
       " 'Turnovers',\n",
       " 'Plus_Minus']"
      ]
     },
     "execution_count": 40,
     "metadata": {},
     "output_type": "execute_result"
    }
   ],
   "source": [
    "[i for i in df_test.columns if i not in player_index_vars]"
   ]
  },
  {
   "cell_type": "code",
   "execution_count": 26,
   "metadata": {},
   "outputs": [],
   "source": [
    "from src.data.player_stats import PlayStatsByPlayer, calculate_conversion_rates"
   ]
  },
  {
   "cell_type": "code",
   "execution_count": 14,
   "metadata": {},
   "outputs": [
    {
     "name": "stdout",
     "output_type": "stream",
     "text": [
      "CPU times: user 1.41 s, sys: 15 ms, total: 1.43 s\n",
      "Wall time: 1.43 s\n"
     ]
    }
   ],
   "source": [
    "%%time\n",
    "df_points = df.groupby(player_index_vars[:-1]).apply(PlayStatsByPlayer) #.reset_index().drop('level_1', axis=1)"
   ]
  },
  {
   "cell_type": "code",
   "execution_count": 18,
   "metadata": {},
   "outputs": [],
   "source": [
    "df_points.reset_index?"
   ]
  },
  {
   "cell_type": "code",
   "execution_count": 15,
   "metadata": {},
   "outputs": [],
   "source": [
    "player_index_vars.pop?"
   ]
  },
  {
   "cell_type": "code",
   "execution_count": 19,
   "metadata": {},
   "outputs": [
    {
     "data": {
      "text/plain": [
       "['year', 'team', 'opponent']"
      ]
     },
     "execution_count": 19,
     "metadata": {},
     "output_type": "execute_result"
    }
   ],
   "source": [
    "player_index_vars"
   ]
  },
  {
   "cell_type": "code",
   "execution_count": 23,
   "metadata": {},
   "outputs": [
    {
     "data": {
      "text/plain": [
       "['year', 'team']"
      ]
     },
     "execution_count": 23,
     "metadata": {},
     "output_type": "execute_result"
    }
   ],
   "source": [
    "player_index_vars[:-1]"
   ]
  },
  {
   "cell_type": "code",
   "execution_count": 10,
   "metadata": {},
   "outputs": [
    {
     "data": {
      "text/plain": [
       "['__add__',\n",
       " '__class__',\n",
       " '__contains__',\n",
       " '__delattr__',\n",
       " '__delitem__',\n",
       " '__dir__',\n",
       " '__doc__',\n",
       " '__eq__',\n",
       " '__format__',\n",
       " '__ge__',\n",
       " '__getattribute__',\n",
       " '__getitem__',\n",
       " '__gt__',\n",
       " '__hash__',\n",
       " '__iadd__',\n",
       " '__imul__',\n",
       " '__init__',\n",
       " '__init_subclass__',\n",
       " '__iter__',\n",
       " '__le__',\n",
       " '__len__',\n",
       " '__lt__',\n",
       " '__mul__',\n",
       " '__ne__',\n",
       " '__new__',\n",
       " '__reduce__',\n",
       " '__reduce_ex__',\n",
       " '__repr__',\n",
       " '__reversed__',\n",
       " '__rmul__',\n",
       " '__setattr__',\n",
       " '__setitem__',\n",
       " '__sizeof__',\n",
       " '__str__',\n",
       " '__subclasshook__',\n",
       " 'append',\n",
       " 'clear',\n",
       " 'copy',\n",
       " 'count',\n",
       " 'extend',\n",
       " 'index',\n",
       " 'insert',\n",
       " 'pop',\n",
       " 'remove',\n",
       " 'reverse',\n",
       " 'sort']"
      ]
     },
     "execution_count": 10,
     "metadata": {},
     "output_type": "execute_result"
    }
   ],
   "source": [
    "dir(player_index_vars)"
   ]
  },
  {
   "cell_type": "code",
   "execution_count": 11,
   "metadata": {},
   "outputs": [
    {
     "ename": "TypeError",
     "evalue": "unsupported operand type(s) for -: 'list' and 'list'",
     "output_type": "error",
     "traceback": [
      "\u001b[0;31m---------------------------------------------------------------------------\u001b[0m",
      "\u001b[0;31mTypeError\u001b[0m                                 Traceback (most recent call last)",
      "\u001b[0;32m<ipython-input-11-8f867e9b63c0>\u001b[0m in \u001b[0;36m<module>\u001b[0;34m\u001b[0m\n\u001b[0;32m----> 1\u001b[0;31m \u001b[0mplayer_index_vars\u001b[0m \u001b[0;34m-\u001b[0m \u001b[0;34m[\u001b[0m\u001b[0;34m'year'\u001b[0m\u001b[0;34m]\u001b[0m\u001b[0;34m\u001b[0m\u001b[0;34m\u001b[0m\u001b[0m\n\u001b[0m",
      "\u001b[0;31mTypeError\u001b[0m: unsupported operand type(s) for -: 'list' and 'list'"
     ]
    }
   ],
   "source": [
    "player_index_vars - ['year']"
   ]
  },
  {
   "cell_type": "code",
   "execution_count": 13,
   "metadata": {},
   "outputs": [
    {
     "ename": "TypeError",
     "evalue": "'builtin_function_or_method' object is not subscriptable",
     "output_type": "error",
     "traceback": [
      "\u001b[0;31m---------------------------------------------------------------------------\u001b[0m",
      "\u001b[0;31mTypeError\u001b[0m                                 Traceback (most recent call last)",
      "\u001b[0;32m<ipython-input-13-bc45b0ce553a>\u001b[0m in \u001b[0;36m<module>\u001b[0;34m\u001b[0m\n\u001b[0;32m----> 1\u001b[0;31m \u001b[0mplayer_index_vars\u001b[0m\u001b[0;34m.\u001b[0m\u001b[0mpop\u001b[0m\u001b[0;34m[\u001b[0m\u001b[0;34m-\u001b[0m\u001b[0;36m1\u001b[0m\u001b[0;34m]\u001b[0m\u001b[0;34m\u001b[0m\u001b[0;34m\u001b[0m\u001b[0m\n\u001b[0m",
      "\u001b[0;31mTypeError\u001b[0m: 'builtin_function_or_method' object is not subscriptable"
     ]
    }
   ],
   "source": [
    "player_index_vars.pop[-1]"
   ]
  },
  {
   "cell_type": "code",
   "execution_count": null,
   "metadata": {},
   "outputs": [],
   "source": []
  }
 ],
 "metadata": {
  "kernelspec": {
   "display_name": "Python 3",
   "language": "python",
   "name": "python3"
  },
  "language_info": {
   "codemirror_mode": {
    "name": "ipython",
    "version": 3
   },
   "file_extension": ".py",
   "mimetype": "text/x-python",
   "name": "python",
   "nbconvert_exporter": "python",
   "pygments_lexer": "ipython3",
   "version": "3.7.2"
  }
 },
 "nbformat": 4,
 "nbformat_minor": 2
}
