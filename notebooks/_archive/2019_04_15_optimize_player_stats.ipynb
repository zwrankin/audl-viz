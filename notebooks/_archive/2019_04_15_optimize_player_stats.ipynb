{
 "cells": [
  {
   "cell_type": "markdown",
   "metadata": {},
   "source": [
    "## Efficiency stats\n",
    "check speedup of refactoring of Dan's code "
   ]
  },
  {
   "cell_type": "code",
   "execution_count": 10,
   "metadata": {},
   "outputs": [],
   "source": [
    "import pandas as pd\n",
    "import glob\n",
    "from src.data.utils import DATA_DIR, load_raw_data\n",
    "from src.data.process_team_indicators import index_vars"
   ]
  },
  {
   "cell_type": "code",
   "execution_count": 13,
   "metadata": {
    "scrolled": true
   },
   "outputs": [
    {
     "data": {
      "text/plain": [
       "(612095, 58)"
      ]
     },
     "execution_count": 13,
     "metadata": {},
     "output_type": "execute_result"
    }
   ],
   "source": [
    "audl = pd.concat([pd.read_csv(dfteam, index_col=0) for dfteam in glob.glob(f'{DATA_DIR}/raw/*.csv')])\n",
    "audl.shape"
   ]
  },
  {
   "cell_type": "code",
   "execution_count": 14,
   "metadata": {},
   "outputs": [],
   "source": [
    "def GetPlayers(df_in):\n",
    "    return df_in['Lineup'].str.split(', ').apply(pd.Series).stack().unique()\n",
    "\n",
    "def GetGamesPlayed(df_in,plyr):\n",
    "    return df_in[df_in['Lineup'].str.contains(plyr,na=False)].groupby(['GameID']).ngroups\n",
    "def GetQuartersPlayed(df_in,plyr):\n",
    "    return df_in[df_in['Lineup'].str.contains(plyr,na=False)].groupby(['GameID','QuarterID']).ngroups\n",
    "def GetPointsPlayed(df_in,plyr):\n",
    "    return df_in[(df_in['Event Type']!='Cessation') & df_in['Lineup'].str.contains(plyr,na=False)].groupby(['GameID','PointID']).ngroups\n",
    "def GetPossessionsPlayed(df_in,plyr):\n",
    "    return df_in[(df_in['Event Type']=='Offense')&df_in['Lineup'].str.contains(plyr,na=False)].groupby(['GameID','PointID','PossessionID']).ngroups\n",
    "\n",
    "def GetPointsWon(df_in,plyr):\n",
    "    return df_in[df_in['Lineup'].str.contains(plyr,na=False)&(df_in['Event Type']=='Offense')&(df_in.Action=='Goal')].groupby(['GameID','PointID']).ngroups\n",
    "def GetPointsLost(df_in,plyr):\n",
    "    return df_in[df_in['Lineup'].str.contains(plyr,na=False)&(df_in['Event Type']=='Defense')&(df_in.Action=='Goal')].groupby(['GameID','PointID']).ngroups\n",
    "\n",
    "def GetOPointsWon(df_in,plyr):\n",
    "    return df_in[df_in['Lineup'].str.contains(plyr,na=False)\n",
    "                 &(df_in['Event Type']=='Offense')\n",
    "                 &(df_in.Action=='Goal')\n",
    "                 &(df_in.Line=='O')].groupby(['GameID','PointID']).ngroups\n",
    "def GetOPointsLost(df_in,plyr):\n",
    "    return df_in[df_in['Lineup'].str.contains(plyr,na=False)\n",
    "                 &(df_in['Event Type']=='Defense')\n",
    "                 &(df_in.Action=='Goal')\n",
    "                 &(df_in.Line=='O')].groupby(['GameID','PointID']).ngroups\n",
    "\n",
    "def GetDPointsWon(df_in,plyr):\n",
    "    return df_in[df_in['Lineup'].str.contains(plyr,na=False)\n",
    "                 &(df_in['Event Type']=='Offense')\n",
    "                 &(df_in.Action=='Goal')\n",
    "                 &(df_in.Line=='D')].groupby(['GameID','PointID']).ngroups\n",
    "def GetDPointsLost(df_in,plyr):\n",
    "    return df_in[df_in['Lineup'].str.contains(plyr,na=False)\n",
    "                 &(df_in['Event Type']=='Defense')\n",
    "                 &(df_in.Action=='Goal')\n",
    "                 &(df_in.Line=='D')].groupby(['GameID','PointID']).ngroups\n",
    "\n",
    "def GetOPointsPlayed(df_in,plyr):\n",
    "    return df_in[(df_in['Event Type']!='Cessation') & (df_in.Line=='O')&df_in['Lineup'].str.contains(plyr,na=False)].groupby(['GameID','PointID']).ngroups\n",
    "def GetOPossessionsPlayed(df_in,plyr):\n",
    "    return df_in[(df_in.Line=='O')&(df_in['Event Type']=='Offense')&df_in['Lineup'].str.contains(plyr,na=False)].groupby(['GameID','PointID','PossessionID']).ngroups\n",
    "def GetOppOPossessionsPlayed(df_in,plyr):\n",
    "    return df_in[(df_in.Line=='O')&(df_in['Event Type']=='Defense')&df_in['Lineup'].str.contains(plyr,na=False)].groupby(['GameID','PointID','PossessionID']).ngroups\n",
    "\n",
    "def GetDPointsPlayed(df_in,plyr):\n",
    "    return df_in[(df_in['Event Type']!='Cessation') & (df_in.Line=='D')&df_in['Lineup'].str.contains(plyr,na=False)].groupby(['GameID','PointID']).ngroups\n",
    "def GetDPossessionsPlayed(df_in,plyr):\n",
    "    return df_in[(df_in.Line=='D')&(df_in['Event Type']=='Offense')&df_in['Lineup'].str.contains(plyr,na=False)].groupby(['GameID','PointID','PossessionID']).ngroups\n",
    "def GetOppDPossessionsPlayed(df_in,plyr):\n",
    "    return df_in[(df_in.Line=='D')&(df_in['Event Type']=='Defense')&df_in['Lineup'].str.contains(plyr,na=False)].groupby(['GameID','PointID','PossessionID']).ngroups\n",
    "\n",
    "\n",
    "def PlayStatsByPlayer(df_in):\n",
    "    plyrs = GetPlayers(df_in)\n",
    "    return pd.DataFrame([{'Name': p, \n",
    "                          'Games Played': GetGamesPlayed(df_in,p),\n",
    "                          'Quarters Played': GetQuartersPlayed(df_in,p),\n",
    "                          'Points Played': GetPointsPlayed(df_in,p),\n",
    "                          'Possessions Played': GetPossessionsPlayed(df_in,p),\n",
    "                          'Points Played (Offense)': GetOPointsPlayed(df_in,p),\n",
    "                          'Possessions Played (Offense)': GetOPossessionsPlayed(df_in,p),\n",
    "                          'Opp Possessions Played (Offense)': GetOppOPossessionsPlayed(df_in,p),\n",
    "                          'Points Played (Defense)': GetDPointsPlayed(df_in,p),\n",
    "                          'Possessions Played (Defense)': GetOPossessionsPlayed(df_in,p),\n",
    "                          'Opp Possessions Played (Defense)': GetOppDPossessionsPlayed(df_in,p),\n",
    "                          'Points Won': GetPointsWon(df_in,p),\n",
    "                          'Points Lost': GetPointsLost(df_in,p),\n",
    "                          'Points Won (Offense)': GetOPointsWon(df_in,p),\n",
    "                          'Points Lost (Offense)': GetOPointsLost(df_in,p),\n",
    "                          'Points Won (Defense)': GetDPointsWon(df_in,p),\n",
    "                          'Points Lost (Defense)': GetDPointsLost(df_in,p),\n",
    "                         } for p in plyrs])"
   ]
  },
  {
   "cell_type": "code",
   "execution_count": 15,
   "metadata": {},
   "outputs": [
    {
     "name": "stdout",
     "output_type": "stream",
     "text": [
      "CPU times: user 7min 32s, sys: 1.31 s, total: 7min 33s\n",
      "Wall time: 7min 34s\n"
     ]
    }
   ],
   "source": [
    "%%time\n",
    "gameplay_stats = audl.groupby(['Teamname','Tournament']).apply(PlayStatsByPlayer).reset_index().rename(columns={'Tournament':'Year'}).drop('level_2',axis=1)"
   ]
  },
  {
   "cell_type": "code",
   "execution_count": 18,
   "metadata": {},
   "outputs": [],
   "source": [
    "def GetPlayers(df_in):\n",
    "    return df_in['Lineup'].str.split(', ').apply(pd.Series).stack().unique()\n",
    "\n",
    "def GetGamesPlayed(df_in,plyr):\n",
    "    return df_in.groupby(['GameID']).ngroups\n",
    "def GetQuartersPlayed(df_in,plyr):\n",
    "    return df_in.groupby(['GameID','QuarterID']).ngroups\n",
    "def GetPointsPlayed(df_in,plyr):\n",
    "    return df_in[(df_in['Event Type']!='Cessation')].groupby(['GameID','PointID']).ngroups\n",
    "def GetPossessionsPlayed(df_in,plyr):\n",
    "    return df_in[(df_in['Event Type']=='Offense')].groupby(['GameID','PointID','PossessionID']).ngroups\n",
    "\n",
    "def GetPointsWon(df_in,plyr):\n",
    "    return df_in[(df_in['Event Type']=='Offense')&(df_in.Action=='Goal')].groupby(['GameID','PointID']).ngroups\n",
    "def GetPointsLost(df_in,plyr):\n",
    "    return df_in[(df_in['Event Type']=='Defense')&(df_in.Action=='Goal')].groupby(['GameID','PointID']).ngroups\n",
    "\n",
    "def GetOPointsWon(df_in,plyr):\n",
    "    return df_in[(df_in['Event Type']=='Offense')\n",
    "                 &(df_in.Action=='Goal')\n",
    "                 &(df_in.Line=='O')].groupby(['GameID','PointID']).ngroups\n",
    "def GetOPointsLost(df_in,plyr):\n",
    "    return df_in[(df_in['Event Type']=='Defense')\n",
    "                 &(df_in.Action=='Goal')\n",
    "                 &(df_in.Line=='O')].groupby(['GameID','PointID']).ngroups\n",
    "\n",
    "def GetDPointsWon(df_in,plyr):\n",
    "    return df_in[(df_in['Event Type']=='Offense')\n",
    "                 &(df_in.Action=='Goal')\n",
    "                 &(df_in.Line=='D')].groupby(['GameID','PointID']).ngroups\n",
    "def GetDPointsLost(df_in,plyr):\n",
    "    return df_in[(df_in['Event Type']=='Defense')\n",
    "                 &(df_in.Action=='Goal')\n",
    "                 &(df_in.Line=='D')].groupby(['GameID','PointID']).ngroups\n",
    "\n",
    "def GetOPointsPlayed(df_in,plyr):\n",
    "    return df_in[(df_in['Event Type']!='Cessation') & (df_in.Line=='O')].groupby(['GameID','PointID']).ngroups\n",
    "def GetOPossessionsPlayed(df_in,plyr):\n",
    "    return df_in[(df_in.Line=='O')&(df_in['Event Type']=='Offense')].groupby(['GameID','PointID','PossessionID']).ngroups\n",
    "def GetOppOPossessionsPlayed(df_in,plyr):\n",
    "    return df_in[(df_in.Line=='O')&(df_in['Event Type']=='Defense')].groupby(['GameID','PointID','PossessionID']).ngroups\n",
    "\n",
    "def GetDPointsPlayed(df_in,plyr):\n",
    "    return df_in[(df_in['Event Type']!='Cessation') & (df_in.Line=='D')].groupby(['GameID','PointID']).ngroups\n",
    "def GetDPossessionsPlayed(df_in,plyr):\n",
    "    return df_in[(df_in.Line=='D')&(df_in['Event Type']=='Offense')].groupby(['GameID','PointID','PossessionID']).ngroups\n",
    "def GetOppDPossessionsPlayed(df_in,plyr):\n",
    "    return df_in[(df_in.Line=='D')&(df_in['Event Type']=='Defense')].groupby(['GameID','PointID','PossessionID']).ngroups\n",
    "\n",
    "\n",
    "def PlayStatsByPlayer(df):\n",
    "    plyrs = GetPlayers(df)\n",
    "    dfs = []\n",
    "    for p in plyrs:\n",
    "        df_in = df[df['Lineup'].str.contains(p,na=False)]\n",
    "        df_p = pd.DataFrame({'Name': p, \n",
    "                          'Games Played': GetGamesPlayed(df_in,p),\n",
    "                          'Quarters Played': GetQuartersPlayed(df_in,p),\n",
    "                          'Points Played': GetPointsPlayed(df_in,p),\n",
    "                          'Possessions Played': GetPossessionsPlayed(df_in,p),\n",
    "                          'Points Played (Offense)': GetOPointsPlayed(df_in,p),\n",
    "                          'Possessions Played (Offense)': GetOPossessionsPlayed(df_in,p),\n",
    "                          'Opp Possessions Played (Offense)': GetOppOPossessionsPlayed(df_in,p),\n",
    "                          'Points Played (Defense)': GetDPointsPlayed(df_in,p),\n",
    "                          'Possessions Played (Defense)': GetOPossessionsPlayed(df_in,p),\n",
    "                          'Opp Possessions Played (Defense)': GetOppDPossessionsPlayed(df_in,p),\n",
    "                          'Points Won': GetPointsWon(df_in,p),\n",
    "                          'Points Lost': GetPointsLost(df_in,p),\n",
    "                          'Points Won (Offense)': GetOPointsWon(df_in,p),\n",
    "                          'Points Lost (Offense)': GetOPointsLost(df_in,p),\n",
    "                          'Points Won (Defense)': GetDPointsWon(df_in,p),\n",
    "                          'Points Lost (Defense)': GetDPointsLost(df_in,p),\n",
    "                         }, index=[0])\n",
    "        # print(len(df_p))\n",
    "        dfs.append(df_p)\n",
    "        \n",
    "    return pd.concat(dfs, ignore_index=True)\n",
    "        "
   ]
  },
  {
   "cell_type": "code",
   "execution_count": 19,
   "metadata": {},
   "outputs": [
    {
     "name": "stdout",
     "output_type": "stream",
     "text": [
      "CPU times: user 4min 34s, sys: 982 ms, total: 4min 35s\n",
      "Wall time: 4min 35s\n"
     ]
    }
   ],
   "source": [
    "%%time\n",
    "gameplay_stats = audl.groupby(['Teamname','Tournament']).apply(PlayStatsByPlayer).reset_index()#.rename(columns={'Tournament':'Year'}).drop('level_2',axis=1)\n",
    "\n"
   ]
  },
  {
   "cell_type": "code",
   "execution_count": 44,
   "metadata": {},
   "outputs": [],
   "source": [
    "def GetPlayers(df):\n",
    "    return df['Lineup'].str.split(', ').apply(pd.Series).stack().unique()\n",
    "\n",
    "def GetGamesPlayed(df):\n",
    "    return df.groupby(['GameID']).ngroups\n",
    "def GetQuartersPlayed(df):\n",
    "    return df.groupby(['GameID','QuarterID']).ngroups\n",
    "def GetPointsPlayed(df):\n",
    "    return df[(df['Event Type']!='Cessation')].groupby(['GameID','PointID']).ngroups\n",
    "def GetPossessionsPlayed(df):\n",
    "    return df[(df['Event Type']=='Offense')].groupby(['GameID','PointID','PossessionID']).ngroups\n",
    "\n",
    "def GetPointsWon(df):\n",
    "    return df[(df['Event Type']=='Offense')&(df.Action=='Goal')].groupby(['GameID','PointID']).ngroups\n",
    "def GetPointsLost(df):\n",
    "    return df[(df['Event Type']=='Defense')&(df.Action=='Goal')].groupby(['GameID','PointID']).ngroups\n",
    "\n",
    "def GetOPointsWon(df):\n",
    "    return df[(df['Event Type']=='Offense')\n",
    "              &(df.Action=='Goal')\n",
    "              &(df.Line=='O')].groupby(['GameID','PointID']).ngroups\n",
    "def GetOPointsLost(df):\n",
    "    return df[(df['Event Type']=='Defense')\n",
    "              &(df.Action=='Goal')\n",
    "              &(df.Line=='O')].groupby(['GameID','PointID']).ngroups\n",
    "\n",
    "def GetDPointsWon(df):\n",
    "    return df[(df['Event Type']=='Offense')\n",
    "              &(df.Action=='Goal')\n",
    "              &(df.Line=='D')].groupby(['GameID','PointID']).ngroups\n",
    "def GetDPointsLost(df):\n",
    "    return df[(df['Event Type']=='Defense')\n",
    "              &(df.Action=='Goal')\n",
    "              &(df.Line=='D')].groupby(['GameID','PointID']).ngroups\n",
    "\n",
    "def GetOPointsPlayed(df):\n",
    "    return df[(df['Event Type']!='Cessation') & (df.Line=='O')].groupby(['GameID','PointID']).ngroups\n",
    "def GetOPossessionsPlayed(df):\n",
    "    return df[(df.Line=='O')&(df['Event Type']=='Offense')].groupby(['GameID','PointID','PossessionID']).ngroups\n",
    "def GetOppOPossessionsPlayed(df):\n",
    "    return df[(df.Line=='O')&(df['Event Type']=='Defense')].groupby(['GameID','PointID','PossessionID']).ngroups\n",
    "\n",
    "def GetDPointsPlayed(df):\n",
    "    return df[(df['Event Type']!='Cessation') & (df.Line=='D')].groupby(['GameID','PointID']).ngroups\n",
    "def GetDPossessionsPlayed(df):\n",
    "    return df[(df.Line=='D')&(df['Event Type']=='Offense')].groupby(['GameID','PointID','PossessionID']).ngroups\n",
    "def GetOppDPossessionsPlayed(df):\n",
    "    return df[(df.Line=='D')&(df['Event Type']=='Defense')].groupby(['GameID','PointID','PossessionID']).ngroups\n",
    "\n",
    "\n",
    "def PlayStatsByPlayer(df):\n",
    "    plyrs = GetPlayers(df)\n",
    "    output_dfs = []\n",
    "    for p in plyrs:\n",
    "        df_p = df[df['Lineup'].str.contains(p,na=False)]\n",
    "        df_out = pd.DataFrame({'Name': p,\n",
    "                             'Games Played': GetGamesPlayed(df_p),\n",
    "                             'Quarters Played': GetQuartersPlayed(df_p),\n",
    "                             'Points Played': GetPointsPlayed(df_p),\n",
    "                             'Possessions Played': GetPossessionsPlayed(df_p),\n",
    "                             'Points Played (Offense)': GetOPointsPlayed(df_p),\n",
    "                             'Possessions Played (Offense)': GetOPossessionsPlayed(df_p),\n",
    "                             'Opp Possessions Played (Offense)': GetOppOPossessionsPlayed(df_p),\n",
    "                             'Points Played (Defense)': GetDPointsPlayed(df_p),\n",
    "                             'Possessions Played (Defense)': GetOPossessionsPlayed(df_p),\n",
    "                             'Opp Possessions Played (Defense)': GetOppDPossessionsPlayed(df_p),\n",
    "                             'Points Won': GetPointsWon(df_p),\n",
    "                             'Points Lost': GetPointsLost(df_p),\n",
    "                             'Points Won (Offense)': GetOPointsWon(df_p),\n",
    "                             'Points Lost (Offense)': GetOPointsLost(df_p),\n",
    "                             'Points Won (Defense)': GetDPointsWon(df_p),\n",
    "                             'Points Lost (Defense)': GetDPointsLost(df_p),\n",
    "                             }, index=[0])\n",
    "        # print(len(df_p))\n",
    "        output_dfs.append(df_out)\n",
    "\n",
    "    return pd.concat(output_dfs, ignore_index=True)\n",
    "        "
   ]
  },
  {
   "cell_type": "code",
   "execution_count": 8,
   "metadata": {},
   "outputs": [
    {
     "name": "stderr",
     "output_type": "stream",
     "text": [
      "/Users/zrankin/github/audl-viz/src/data/utils.py:11: FutureWarning: Sorting because non-concatenation axis is not aligned. A future version\n",
      "of pandas will change to not sort by default.\n",
      "\n",
      "To accept the future behavior, pass 'sort=False'.\n",
      "\n",
      "To retain the current behavior and silence the warning, pass 'sort=True'.\n",
      "\n",
      "  df = pd.concat([pd.read_csv(f'{DATA_DIR}/raw/{f}') for f in files])\n"
     ]
    }
   ],
   "source": [
    "audl = load_raw_data()"
   ]
  },
  {
   "cell_type": "code",
   "execution_count": 45,
   "metadata": {},
   "outputs": [
    {
     "data": {
      "text/plain": [
       "(1000, 64)"
      ]
     },
     "execution_count": 45,
     "metadata": {},
     "output_type": "execute_result"
    }
   ],
   "source": [
    "df = audl.sample(1000)\n",
    "df.shape"
   ]
  },
  {
   "cell_type": "code",
   "execution_count": 46,
   "metadata": {},
   "outputs": [
    {
     "name": "stdout",
     "output_type": "stream",
     "text": [
      "CPU times: user 1min 35s, sys: 408 ms, total: 1min 35s\n",
      "Wall time: 1min 35s\n"
     ]
    }
   ],
   "source": [
    "%%time\n",
    "gameplay_stats = df.groupby(['team', 'year']).apply(PlayStatsByPlayer).reset_index()"
   ]
  },
  {
   "cell_type": "code",
   "execution_count": 35,
   "metadata": {},
   "outputs": [
    {
     "name": "stdout",
     "output_type": "stream",
     "text": [
      "CPU times: user 3min 33s, sys: 447 ms, total: 3min 34s\n",
      "Wall time: 3min 34s\n"
     ]
    }
   ],
   "source": [
    "%%time\n",
    "gameplay_stats = df.groupby(['team', 'year', 'game']).apply(PlayStatsByPlayer).reset_index()"
   ]
  },
  {
   "cell_type": "code",
   "execution_count": 36,
   "metadata": {},
   "outputs": [
    {
     "name": "stdout",
     "output_type": "stream",
     "text": [
      "CPU times: user 3min 54s, sys: 1.08 s, total: 3min 55s\n",
      "Wall time: 3min 56s\n"
     ]
    }
   ],
   "source": [
    "%%time\n",
    "gameplay_stats = df.groupby(['team', 'year', 'game', 'opponent']).apply(PlayStatsByPlayer).reset_index()"
   ]
  },
  {
   "cell_type": "code",
   "execution_count": 38,
   "metadata": {},
   "outputs": [
    {
     "data": {
      "text/plain": [
       "(10000, 64)"
      ]
     },
     "execution_count": 38,
     "metadata": {},
     "output_type": "execute_result"
    }
   ],
   "source": [
    "df = audl.sample(10_000)\n",
    "df.shape"
   ]
  },
  {
   "cell_type": "code",
   "execution_count": 39,
   "metadata": {},
   "outputs": [
    {
     "name": "stdout",
     "output_type": "stream",
     "text": [
      "CPU times: user 2min 16s, sys: 601 ms, total: 2min 17s\n",
      "Wall time: 2min 17s\n"
     ]
    }
   ],
   "source": [
    "%%time\n",
    "gameplay_stats = df.groupby(['team', 'year']).apply(PlayStatsByPlayer).reset_index()"
   ]
  },
  {
   "cell_type": "code",
   "execution_count": 40,
   "metadata": {},
   "outputs": [
    {
     "name": "stdout",
     "output_type": "stream",
     "text": [
      "CPU times: user 16min 14s, sys: 4.82 s, total: 16min 19s\n",
      "Wall time: 16min 21s\n"
     ]
    }
   ],
   "source": [
    "%%time\n",
    "gameplay_stats = df.groupby(['team', 'year', 'game']).apply(PlayStatsByPlayer).reset_index()"
   ]
  },
  {
   "cell_type": "code",
   "execution_count": 41,
   "metadata": {},
   "outputs": [
    {
     "name": "stdout",
     "output_type": "stream",
     "text": [
      "CPU times: user 15min 58s, sys: 3.79 s, total: 16min 1s\n",
      "Wall time: 16min 3s\n"
     ]
    }
   ],
   "source": [
    "%%time\n",
    "gameplay_stats = df.groupby('game').apply(PlayStatsByPlayer).reset_index()"
   ]
  },
  {
   "cell_type": "code",
   "execution_count": 42,
   "metadata": {},
   "outputs": [],
   "source": [
    "def PlayStatsByTeam(df):\n",
    "    df_out = pd.DataFrame({\n",
    "                      'Games Played': GetGamesPlayed(df),\n",
    "                      'Quarters Played': GetQuartersPlayed(df),\n",
    "                      'Points Played': GetPointsPlayed(df),\n",
    "                      'Possessions Played': GetPossessionsPlayed(df),\n",
    "                      'Points Played (Offense)': GetOPointsPlayed(df),\n",
    "                      'Possessions Played (Offense)': GetOPossessionsPlayed(df),\n",
    "                      'Opp Possessions Played (Offense)': GetOppOPossessionsPlayed(df),\n",
    "                      'Points Played (Defense)': GetDPointsPlayed(df),\n",
    "                      'Possessions Played (Defense)': GetOPossessionsPlayed(df),\n",
    "                      'Opp Possessions Played (Defense)': GetOppDPossessionsPlayed(df),\n",
    "                      'Points Won': GetPointsWon(df),\n",
    "                      'Points Lost': GetPointsLost(df),\n",
    "                      'Points Won (Offense)': GetOPointsWon(df),\n",
    "                      'Points Lost (Offense)': GetOPointsLost(df),\n",
    "                      'Points Won (Defense)': GetDPointsWon(df),\n",
    "                      'Points Lost (Defense)': GetDPointsLost(df),\n",
    "                     }, index=[0])\n",
    "    return df_out\n",
    "        \n",
    "    "
   ]
  },
  {
   "cell_type": "code",
   "execution_count": 58,
   "metadata": {},
   "outputs": [],
   "source": [
    "def calc_gameplay_rates(df):\n",
    "    df['O conversion rate'] = df['Points Won (Offense)'] / df['Points Played (Offense)']\n",
    "    df['D conversion rate'] = df['Points Won (Defense)'] / df['Points Played (Defense)']\n",
    "    return df"
   ]
  },
  {
   "cell_type": "code",
   "execution_count": 53,
   "metadata": {},
   "outputs": [],
   "source": [
    "gameplay_stats = df.groupby(['team', 'year']).apply(PlayStatsByPlayer)"
   ]
  },
  {
   "cell_type": "code",
   "execution_count": 62,
   "metadata": {},
   "outputs": [],
   "source": [
    "team_gameplay_stats = df.groupby(['team', 'year']).apply(PlayStatsByTeam)\n",
    "team_gameplay_stats = calc_gameplay_rates(team_gameplay_stats)\n",
    "team_conversion_inds = ['O conversion rate', 'D conversion rate']"
   ]
  },
  {
   "cell_type": "markdown",
   "metadata": {},
   "source": [
    "# TODO \n",
    "- How to name the team rates in a way to allow individuals to be compared easily\n",
    "- Should all of this be done on the fly anyway to allow aggregation at different levels? or do we only want this comparison done at the yearly basis (since players can change teams over years, etc) \n",
    "- Should I mock up some plots? \n",
    "    - X axis is number of O points played, y is O conversion rate with horizontal as team avg \n",
    "    - X axis is number of D points played, y is D conversion rate with horizontal as team avg \n",
    "    - (colored by percentage of O points played)\n",
    "    - (side by side?)"
   ]
  },
  {
   "cell_type": "code",
   "execution_count": 63,
   "metadata": {},
   "outputs": [],
   "source": [
    "df_test = pd.merge(gameplay_stats, team_gameplay_stats[team_conversion_inds], left_index=True, right_index=True)"
   ]
  },
  {
   "cell_type": "code",
   "execution_count": 64,
   "metadata": {},
   "outputs": [
    {
     "data": {
      "text/html": [
       "<div>\n",
       "<style scoped>\n",
       "    .dataframe tbody tr th:only-of-type {\n",
       "        vertical-align: middle;\n",
       "    }\n",
       "\n",
       "    .dataframe tbody tr th {\n",
       "        vertical-align: top;\n",
       "    }\n",
       "\n",
       "    .dataframe thead th {\n",
       "        text-align: right;\n",
       "    }\n",
       "</style>\n",
       "<table border=\"1\" class=\"dataframe\">\n",
       "  <thead>\n",
       "    <tr style=\"text-align: right;\">\n",
       "      <th></th>\n",
       "      <th></th>\n",
       "      <th></th>\n",
       "      <th>Name</th>\n",
       "      <th>Games Played</th>\n",
       "      <th>Quarters Played</th>\n",
       "      <th>Points Played</th>\n",
       "      <th>Possessions Played</th>\n",
       "      <th>Points Played (Offense)</th>\n",
       "      <th>Possessions Played (Offense)</th>\n",
       "      <th>Opp Possessions Played (Offense)</th>\n",
       "      <th>Points Played (Defense)</th>\n",
       "      <th>Possessions Played (Defense)</th>\n",
       "      <th>Opp Possessions Played (Defense)</th>\n",
       "      <th>Points Won</th>\n",
       "      <th>Points Lost</th>\n",
       "      <th>Points Won (Offense)</th>\n",
       "      <th>Points Lost (Offense)</th>\n",
       "      <th>Points Won (Defense)</th>\n",
       "      <th>Points Lost (Defense)</th>\n",
       "      <th>O conversion rate</th>\n",
       "      <th>D conversion rate</th>\n",
       "    </tr>\n",
       "    <tr>\n",
       "      <th>team</th>\n",
       "      <th>year</th>\n",
       "      <th></th>\n",
       "      <th></th>\n",
       "      <th></th>\n",
       "      <th></th>\n",
       "      <th></th>\n",
       "      <th></th>\n",
       "      <th></th>\n",
       "      <th></th>\n",
       "      <th></th>\n",
       "      <th></th>\n",
       "      <th></th>\n",
       "      <th></th>\n",
       "      <th></th>\n",
       "      <th></th>\n",
       "      <th></th>\n",
       "      <th></th>\n",
       "      <th></th>\n",
       "      <th></th>\n",
       "      <th></th>\n",
       "      <th></th>\n",
       "    </tr>\n",
       "  </thead>\n",
       "  <tbody>\n",
       "    <tr>\n",
       "      <th rowspan=\"4\" valign=\"top\">Atlanta Hustle</th>\n",
       "      <th>2015</th>\n",
       "      <th>0</th>\n",
       "      <td>Brian Moore</td>\n",
       "      <td>5</td>\n",
       "      <td>5</td>\n",
       "      <td>5</td>\n",
       "      <td>2</td>\n",
       "      <td>2</td>\n",
       "      <td>1</td>\n",
       "      <td>1</td>\n",
       "      <td>3</td>\n",
       "      <td>1</td>\n",
       "      <td>2</td>\n",
       "      <td>0</td>\n",
       "      <td>1</td>\n",
       "      <td>0</td>\n",
       "      <td>0</td>\n",
       "      <td>0</td>\n",
       "      <td>1</td>\n",
       "      <td>0.000000</td>\n",
       "      <td>0.00</td>\n",
       "    </tr>\n",
       "    <tr>\n",
       "      <th>2016</th>\n",
       "      <th>0</th>\n",
       "      <td>Dylan Tunnell</td>\n",
       "      <td>5</td>\n",
       "      <td>8</td>\n",
       "      <td>8</td>\n",
       "      <td>8</td>\n",
       "      <td>7</td>\n",
       "      <td>7</td>\n",
       "      <td>0</td>\n",
       "      <td>1</td>\n",
       "      <td>7</td>\n",
       "      <td>0</td>\n",
       "      <td>1</td>\n",
       "      <td>0</td>\n",
       "      <td>1</td>\n",
       "      <td>0</td>\n",
       "      <td>0</td>\n",
       "      <td>0</td>\n",
       "      <td>0.111111</td>\n",
       "      <td>0.00</td>\n",
       "    </tr>\n",
       "    <tr>\n",
       "      <th>2017</th>\n",
       "      <th>0</th>\n",
       "      <td>Dylan Tunnell</td>\n",
       "      <td>3</td>\n",
       "      <td>3</td>\n",
       "      <td>3</td>\n",
       "      <td>3</td>\n",
       "      <td>3</td>\n",
       "      <td>3</td>\n",
       "      <td>0</td>\n",
       "      <td>0</td>\n",
       "      <td>3</td>\n",
       "      <td>0</td>\n",
       "      <td>0</td>\n",
       "      <td>0</td>\n",
       "      <td>0</td>\n",
       "      <td>0</td>\n",
       "      <td>0</td>\n",
       "      <td>0</td>\n",
       "      <td>0.000000</td>\n",
       "      <td>0.00</td>\n",
       "    </tr>\n",
       "    <tr>\n",
       "      <th>2018</th>\n",
       "      <th>0</th>\n",
       "      <td>Will Lindquist</td>\n",
       "      <td>2</td>\n",
       "      <td>2</td>\n",
       "      <td>2</td>\n",
       "      <td>0</td>\n",
       "      <td>0</td>\n",
       "      <td>0</td>\n",
       "      <td>0</td>\n",
       "      <td>2</td>\n",
       "      <td>0</td>\n",
       "      <td>2</td>\n",
       "      <td>0</td>\n",
       "      <td>0</td>\n",
       "      <td>0</td>\n",
       "      <td>0</td>\n",
       "      <td>0</td>\n",
       "      <td>0</td>\n",
       "      <td>0.200000</td>\n",
       "      <td>0.00</td>\n",
       "    </tr>\n",
       "    <tr>\n",
       "      <th>Austin Sol</th>\n",
       "      <th>2016</th>\n",
       "      <th>0</th>\n",
       "      <td>Mitchell Bennett</td>\n",
       "      <td>3</td>\n",
       "      <td>3</td>\n",
       "      <td>3</td>\n",
       "      <td>3</td>\n",
       "      <td>2</td>\n",
       "      <td>2</td>\n",
       "      <td>0</td>\n",
       "      <td>1</td>\n",
       "      <td>2</td>\n",
       "      <td>0</td>\n",
       "      <td>0</td>\n",
       "      <td>0</td>\n",
       "      <td>0</td>\n",
       "      <td>0</td>\n",
       "      <td>0</td>\n",
       "      <td>0</td>\n",
       "      <td>0.000000</td>\n",
       "      <td>0.25</td>\n",
       "    </tr>\n",
       "  </tbody>\n",
       "</table>\n",
       "</div>"
      ],
      "text/plain": [
       "                                   Name  Games Played  Quarters Played  \\\n",
       "team           year                                                      \n",
       "Atlanta Hustle 2015 0       Brian Moore             5                5   \n",
       "               2016 0     Dylan Tunnell             5                8   \n",
       "               2017 0     Dylan Tunnell             3                3   \n",
       "               2018 0    Will Lindquist             2                2   \n",
       "Austin Sol     2016 0  Mitchell Bennett             3                3   \n",
       "\n",
       "                       Points Played  Possessions Played  \\\n",
       "team           year                                        \n",
       "Atlanta Hustle 2015 0              5                   2   \n",
       "               2016 0              8                   8   \n",
       "               2017 0              3                   3   \n",
       "               2018 0              2                   0   \n",
       "Austin Sol     2016 0              3                   3   \n",
       "\n",
       "                       Points Played (Offense)  Possessions Played (Offense)  \\\n",
       "team           year                                                            \n",
       "Atlanta Hustle 2015 0                        2                             1   \n",
       "               2016 0                        7                             7   \n",
       "               2017 0                        3                             3   \n",
       "               2018 0                        0                             0   \n",
       "Austin Sol     2016 0                        2                             2   \n",
       "\n",
       "                       Opp Possessions Played (Offense)  \\\n",
       "team           year                                       \n",
       "Atlanta Hustle 2015 0                                 1   \n",
       "               2016 0                                 0   \n",
       "               2017 0                                 0   \n",
       "               2018 0                                 0   \n",
       "Austin Sol     2016 0                                 0   \n",
       "\n",
       "                       Points Played (Defense)  Possessions Played (Defense)  \\\n",
       "team           year                                                            \n",
       "Atlanta Hustle 2015 0                        3                             1   \n",
       "               2016 0                        1                             7   \n",
       "               2017 0                        0                             3   \n",
       "               2018 0                        2                             0   \n",
       "Austin Sol     2016 0                        1                             2   \n",
       "\n",
       "                       Opp Possessions Played (Defense)  Points Won  \\\n",
       "team           year                                                   \n",
       "Atlanta Hustle 2015 0                                 2           0   \n",
       "               2016 0                                 0           1   \n",
       "               2017 0                                 0           0   \n",
       "               2018 0                                 2           0   \n",
       "Austin Sol     2016 0                                 0           0   \n",
       "\n",
       "                       Points Lost  Points Won (Offense)  \\\n",
       "team           year                                        \n",
       "Atlanta Hustle 2015 0            1                     0   \n",
       "               2016 0            0                     1   \n",
       "               2017 0            0                     0   \n",
       "               2018 0            0                     0   \n",
       "Austin Sol     2016 0            0                     0   \n",
       "\n",
       "                       Points Lost (Offense)  Points Won (Defense)  \\\n",
       "team           year                                                  \n",
       "Atlanta Hustle 2015 0                      0                     0   \n",
       "               2016 0                      0                     0   \n",
       "               2017 0                      0                     0   \n",
       "               2018 0                      0                     0   \n",
       "Austin Sol     2016 0                      0                     0   \n",
       "\n",
       "                       Points Lost (Defense)  O conversion rate  \\\n",
       "team           year                                               \n",
       "Atlanta Hustle 2015 0                      1           0.000000   \n",
       "               2016 0                      0           0.111111   \n",
       "               2017 0                      0           0.000000   \n",
       "               2018 0                      0           0.200000   \n",
       "Austin Sol     2016 0                      0           0.000000   \n",
       "\n",
       "                       D conversion rate  \n",
       "team           year                       \n",
       "Atlanta Hustle 2015 0               0.00  \n",
       "               2016 0               0.00  \n",
       "               2017 0               0.00  \n",
       "               2018 0               0.00  \n",
       "Austin Sol     2016 0               0.25  "
      ]
     },
     "execution_count": 64,
     "metadata": {},
     "output_type": "execute_result"
    }
   ],
   "source": [
    "df_test.head()"
   ]
  },
  {
   "cell_type": "code",
   "execution_count": null,
   "metadata": {},
   "outputs": [],
   "source": []
  }
 ],
 "metadata": {
  "kernelspec": {
   "display_name": "Python 3",
   "language": "python",
   "name": "python3"
  },
  "language_info": {
   "codemirror_mode": {
    "name": "ipython",
    "version": 3
   },
   "file_extension": ".py",
   "mimetype": "text/x-python",
   "name": "python",
   "nbconvert_exporter": "python",
   "pygments_lexer": "ipython3",
   "version": "3.7.2"
  }
 },
 "nbformat": 4,
 "nbformat_minor": 2
}
