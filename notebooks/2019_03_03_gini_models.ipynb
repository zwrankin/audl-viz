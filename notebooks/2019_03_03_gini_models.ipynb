{
 "cells": [
  {
   "cell_type": "markdown",
   "metadata": {},
   "source": [
    "# Gini models\n",
    "Get coefficients of relationship between gini coefficients and win percentage"
   ]
  },
  {
   "cell_type": "code",
   "execution_count": 53,
   "metadata": {},
   "outputs": [],
   "source": [
    "%matplotlib inline "
   ]
  },
  {
   "cell_type": "code",
   "execution_count": 1,
   "metadata": {},
   "outputs": [],
   "source": [
    "import pandas as pd\n",
    "from sklearn.linear_model import LinearRegression\n",
    "\n",
    "from src.data.process_team_indicators import index_vars, team_indicators, player_indicators\n",
    "from src.data.utils import gini"
   ]
  },
  {
   "cell_type": "code",
   "execution_count": 8,
   "metadata": {},
   "outputs": [
    {
     "data": {
      "text/html": [
       "<div>\n",
       "<style scoped>\n",
       "    .dataframe tbody tr th:only-of-type {\n",
       "        vertical-align: middle;\n",
       "    }\n",
       "\n",
       "    .dataframe tbody tr th {\n",
       "        vertical-align: top;\n",
       "    }\n",
       "\n",
       "    .dataframe thead th {\n",
       "        text-align: right;\n",
       "    }\n",
       "</style>\n",
       "<table border=\"1\" class=\"dataframe\">\n",
       "  <thead>\n",
       "    <tr style=\"text-align: right;\">\n",
       "      <th></th>\n",
       "      <th>team</th>\n",
       "      <th>year</th>\n",
       "      <th>Completions</th>\n",
       "      <th>Assists</th>\n",
       "      <th>Throwaways</th>\n",
       "      <th>Receptions</th>\n",
       "      <th>Goals</th>\n",
       "      <th>Drops</th>\n",
       "      <th>Ds</th>\n",
       "      <th>Turnovers</th>\n",
       "      <th>Plus_Minus</th>\n",
       "      <th>Wins</th>\n",
       "      <th>Losses</th>\n",
       "      <th>Win_pct</th>\n",
       "    </tr>\n",
       "  </thead>\n",
       "  <tbody>\n",
       "    <tr>\n",
       "      <th>0</th>\n",
       "      <td>Atlanta Hustle</td>\n",
       "      <td>2015</td>\n",
       "      <td>0.464107</td>\n",
       "      <td>0.561047</td>\n",
       "      <td>0.614297</td>\n",
       "      <td>0.428622</td>\n",
       "      <td>0.581770</td>\n",
       "      <td>0.854967</td>\n",
       "      <td>0.590000</td>\n",
       "      <td>0.566205</td>\n",
       "      <td>0.568699</td>\n",
       "      <td>10</td>\n",
       "      <td>4</td>\n",
       "      <td>71.428571</td>\n",
       "    </tr>\n",
       "    <tr>\n",
       "      <th>1</th>\n",
       "      <td>Atlanta Hustle</td>\n",
       "      <td>2016</td>\n",
       "      <td>0.482527</td>\n",
       "      <td>0.623494</td>\n",
       "      <td>0.561078</td>\n",
       "      <td>0.456884</td>\n",
       "      <td>0.573670</td>\n",
       "      <td>0.860966</td>\n",
       "      <td>0.674895</td>\n",
       "      <td>0.521393</td>\n",
       "      <td>0.687292</td>\n",
       "      <td>8</td>\n",
       "      <td>8</td>\n",
       "      <td>50.000000</td>\n",
       "    </tr>\n",
       "    <tr>\n",
       "      <th>2</th>\n",
       "      <td>Atlanta Hustle</td>\n",
       "      <td>2017</td>\n",
       "      <td>0.512415</td>\n",
       "      <td>0.624244</td>\n",
       "      <td>0.642791</td>\n",
       "      <td>0.485584</td>\n",
       "      <td>0.615108</td>\n",
       "      <td>0.877430</td>\n",
       "      <td>0.633367</td>\n",
       "      <td>0.607149</td>\n",
       "      <td>0.633003</td>\n",
       "      <td>5</td>\n",
       "      <td>9</td>\n",
       "      <td>35.714286</td>\n",
       "    </tr>\n",
       "    <tr>\n",
       "      <th>3</th>\n",
       "      <td>Atlanta Hustle</td>\n",
       "      <td>2018</td>\n",
       "      <td>0.398099</td>\n",
       "      <td>0.580781</td>\n",
       "      <td>0.680439</td>\n",
       "      <td>0.376452</td>\n",
       "      <td>0.570041</td>\n",
       "      <td>0.861838</td>\n",
       "      <td>0.734381</td>\n",
       "      <td>0.629968</td>\n",
       "      <td>0.596819</td>\n",
       "      <td>7</td>\n",
       "      <td>7</td>\n",
       "      <td>50.000000</td>\n",
       "    </tr>\n",
       "    <tr>\n",
       "      <th>4</th>\n",
       "      <td>Austin Sol</td>\n",
       "      <td>2016</td>\n",
       "      <td>0.479488</td>\n",
       "      <td>0.624908</td>\n",
       "      <td>0.628895</td>\n",
       "      <td>0.456653</td>\n",
       "      <td>0.596024</td>\n",
       "      <td>0.826205</td>\n",
       "      <td>0.618547</td>\n",
       "      <td>0.577140</td>\n",
       "      <td>0.724214</td>\n",
       "      <td>7</td>\n",
       "      <td>7</td>\n",
       "      <td>50.000000</td>\n",
       "    </tr>\n",
       "  </tbody>\n",
       "</table>\n",
       "</div>"
      ],
      "text/plain": [
       "             team  year  Completions   Assists  Throwaways  Receptions  \\\n",
       "0  Atlanta Hustle  2015     0.464107  0.561047    0.614297    0.428622   \n",
       "1  Atlanta Hustle  2016     0.482527  0.623494    0.561078    0.456884   \n",
       "2  Atlanta Hustle  2017     0.512415  0.624244    0.642791    0.485584   \n",
       "3  Atlanta Hustle  2018     0.398099  0.580781    0.680439    0.376452   \n",
       "4      Austin Sol  2016     0.479488  0.624908    0.628895    0.456653   \n",
       "\n",
       "      Goals     Drops        Ds  Turnovers  Plus_Minus  Wins  Losses  \\\n",
       "0  0.581770  0.854967  0.590000   0.566205    0.568699    10       4   \n",
       "1  0.573670  0.860966  0.674895   0.521393    0.687292     8       8   \n",
       "2  0.615108  0.877430  0.633367   0.607149    0.633003     5       9   \n",
       "3  0.570041  0.861838  0.734381   0.629968    0.596819     7       7   \n",
       "4  0.596024  0.826205  0.618547   0.577140    0.724214     7       7   \n",
       "\n",
       "     Win_pct  \n",
       "0  71.428571  \n",
       "1  50.000000  \n",
       "2  35.714286  \n",
       "3  50.000000  \n",
       "4  50.000000  "
      ]
     },
     "execution_count": 8,
     "metadata": {},
     "output_type": "execute_result"
    }
   ],
   "source": [
    "df_p = pd.read_csv('../data/processed/player_indicators.csv')\n",
    "\n",
    "df_g = pd.concat([pd.DataFrame(df_p.groupby(['team', 'year'])[i].apply(gini)) for i in player_indicators], axis=1)\n",
    "## [df_g.rename(columns={i: i + '_gini'}, inplace=True) for i in player_indicators]\n",
    "df_g.reset_index(inplace=True)\n",
    "\n",
    "df_wins = pd.read_csv('../data/processed/team_indicators_EOY.csv')\n",
    "df_g = pd.merge(df_g, df_wins)\n",
    "df_g.head()"
   ]
  },
  {
   "cell_type": "code",
   "execution_count": 10,
   "metadata": {},
   "outputs": [],
   "source": [
    "lm = LinearRegression()"
   ]
  },
  {
   "cell_type": "code",
   "execution_count": 36,
   "metadata": {},
   "outputs": [
    {
     "data": {
      "text/plain": [
       "LinearRegression(copy_X=True, fit_intercept=True, n_jobs=None,\n",
       "         normalize=False)"
      ]
     },
     "execution_count": 36,
     "metadata": {},
     "output_type": "execute_result"
    }
   ],
   "source": [
    "indicator = 'Completions'\n",
    "lm.fit(df_g[[indicator]], df_g['Win_pct'])"
   ]
  },
  {
   "cell_type": "code",
   "execution_count": 37,
   "metadata": {},
   "outputs": [
    {
     "data": {
      "text/plain": [
       "array([-150.84047019])"
      ]
     },
     "execution_count": 37,
     "metadata": {},
     "output_type": "execute_result"
    }
   ],
   "source": [
    "lm.coef_"
   ]
  },
  {
   "cell_type": "code",
   "execution_count": 38,
   "metadata": {},
   "outputs": [
    {
     "data": {
      "text/plain": [
       "0.0839546713546595"
      ]
     },
     "execution_count": 38,
     "metadata": {},
     "output_type": "execute_result"
    }
   ],
   "source": [
    "# Returns the coefficient of determination R^2 of the prediction.\n",
    "lm.score(df_g[[indicator]], df_g['Win_pct'])"
   ]
  },
  {
   "cell_type": "code",
   "execution_count": 31,
   "metadata": {},
   "outputs": [],
   "source": [
    "r2 = [lm.score(df_g[[i]], df_g['Win_pct']) for i in player_indicators]"
   ]
  },
  {
   "cell_type": "code",
   "execution_count": 32,
   "metadata": {},
   "outputs": [
    {
     "data": {
      "text/plain": [
       "[-2.5417617899415017,\n",
       " 0.29757330828387574,\n",
       " -0.545893565111379,\n",
       " -4.054522899545039,\n",
       " 0.41956821026633284,\n",
       " -11.581639577138862,\n",
       " -0.3603426935154357,\n",
       " -0.9049863808240375,\n",
       " -56.276910935638746]"
      ]
     },
     "execution_count": 32,
     "metadata": {},
     "output_type": "execute_result"
    }
   ],
   "source": [
    "r2"
   ]
  },
  {
   "cell_type": "code",
   "execution_count": 59,
   "metadata": {},
   "outputs": [
    {
     "data": {
      "text/html": [
       "<div>\n",
       "<style scoped>\n",
       "    .dataframe tbody tr th:only-of-type {\n",
       "        vertical-align: middle;\n",
       "    }\n",
       "\n",
       "    .dataframe tbody tr th {\n",
       "        vertical-align: top;\n",
       "    }\n",
       "\n",
       "    .dataframe thead th {\n",
       "        text-align: right;\n",
       "    }\n",
       "</style>\n",
       "<table border=\"1\" class=\"dataframe\">\n",
       "  <thead>\n",
       "    <tr style=\"text-align: right;\">\n",
       "      <th></th>\n",
       "      <th>indicator</th>\n",
       "      <th>beta</th>\n",
       "      <th>r2</th>\n",
       "    </tr>\n",
       "  </thead>\n",
       "  <tbody>\n",
       "    <tr>\n",
       "      <th>0</th>\n",
       "      <td>Completions</td>\n",
       "      <td>-150.840470</td>\n",
       "      <td>0.083955</td>\n",
       "    </tr>\n",
       "    <tr>\n",
       "      <th>1</th>\n",
       "      <td>Assists</td>\n",
       "      <td>-335.587231</td>\n",
       "      <td>0.334325</td>\n",
       "    </tr>\n",
       "    <tr>\n",
       "      <th>2</th>\n",
       "      <td>Throwaways</td>\n",
       "      <td>166.503195</td>\n",
       "      <td>0.056784</td>\n",
       "    </tr>\n",
       "    <tr>\n",
       "      <th>3</th>\n",
       "      <td>Receptions</td>\n",
       "      <td>-136.284444</td>\n",
       "      <td>0.075832</td>\n",
       "    </tr>\n",
       "    <tr>\n",
       "      <th>4</th>\n",
       "      <td>Goals</td>\n",
       "      <td>-375.539249</td>\n",
       "      <td>0.419568</td>\n",
       "    </tr>\n",
       "    <tr>\n",
       "      <th>5</th>\n",
       "      <td>Drops</td>\n",
       "      <td>292.314221</td>\n",
       "      <td>0.179566</td>\n",
       "    </tr>\n",
       "    <tr>\n",
       "      <th>6</th>\n",
       "      <td>Ds</td>\n",
       "      <td>-264.403280</td>\n",
       "      <td>0.128555</td>\n",
       "    </tr>\n",
       "    <tr>\n",
       "      <th>7</th>\n",
       "      <td>Turnovers</td>\n",
       "      <td>172.992649</td>\n",
       "      <td>0.057301</td>\n",
       "    </tr>\n",
       "    <tr>\n",
       "      <th>8</th>\n",
       "      <td>Plus_Minus</td>\n",
       "      <td>-37.997242</td>\n",
       "      <td>0.487087</td>\n",
       "    </tr>\n",
       "  </tbody>\n",
       "</table>\n",
       "</div>"
      ],
      "text/plain": [
       "     indicator        beta        r2\n",
       "0  Completions -150.840470  0.083955\n",
       "1      Assists -335.587231  0.334325\n",
       "2   Throwaways  166.503195  0.056784\n",
       "3   Receptions -136.284444  0.075832\n",
       "4        Goals -375.539249  0.419568\n",
       "5        Drops  292.314221  0.179566\n",
       "6           Ds -264.403280  0.128555\n",
       "7    Turnovers  172.992649  0.057301\n",
       "8   Plus_Minus  -37.997242  0.487087"
      ]
     },
     "execution_count": 59,
     "metadata": {},
     "output_type": "execute_result"
    }
   ],
   "source": [
    "r2 = []\n",
    "beta = []\n",
    "for i in player_indicators:\n",
    "    lm.fit(df_g[[i]], df_g['Win_pct'])\n",
    "    beta.append(lm.coef_[0])\n",
    "    r2.append(lm.score(df_g[[i]], df_g['Win_pct']))\n",
    "gini_r2 = pd.DataFrame({'indicator':player_indicators, 'beta':beta, 'r2':r2})\n",
    "gini_r2"
   ]
  },
  {
   "cell_type": "code",
   "execution_count": 60,
   "metadata": {},
   "outputs": [
    {
     "data": {
      "text/plain": [
       "<matplotlib.axes._subplots.AxesSubplot at 0x126c95908>"
      ]
     },
     "execution_count": 60,
     "metadata": {},
     "output_type": "execute_result"
    },
    {
     "data": {
      "image/png": "[encoded data removed]",
      "text/plain": [
       "<Figure size 432x288 with 1 Axes>"
      ]
     },
     "metadata": {
      "needs_background": "light"
     },
     "output_type": "display_data"
    }
   ],
   "source": [
    "gini_r2.plot('beta', 'r2', 'scatter')"
   ]
  },
  {
   "cell_type": "code",
   "execution_count": 57,
   "metadata": {},
   "outputs": [],
   "source": [
    "gini_r2.plot?"
   ]
  },
  {
   "cell_type": "code",
   "execution_count": null,
   "metadata": {},
   "outputs": [],
   "source": []
  }
 ],
 "metadata": {
  "kernelspec": {
   "display_name": "Python 3",
   "language": "python",
   "name": "python3"
  },
  "language_info": {
   "codemirror_mode": {
    "name": "ipython",
    "version": 3
   },
   "file_extension": ".py",
   "mimetype": "text/x-python",
   "name": "python",
   "nbconvert_exporter": "python",
   "pygments_lexer": "ipython3",
   "version": "3.7.2"
  }
 },
 "nbformat": 4,
 "nbformat_minor": 2
}
